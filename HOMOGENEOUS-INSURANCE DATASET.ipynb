{
 "cells": [
  {
   "cell_type": "code",
   "execution_count": 80,
   "id": "d389aa7b",
   "metadata": {},
   "outputs": [],
   "source": [
    "import pandas as pd\n",
    "import  numpy as np\n",
    "import matplotlib.pyplot as plt\n",
    "from sklearn.model_selection import train_test_split\n",
    "from sklearn.linear_model  import LinearRegression "
   ]
  },
  {
   "cell_type": "code",
   "execution_count": 81,
   "id": "ef16fd95",
   "metadata": {},
   "outputs": [],
   "source": [
    "df=pd.read_csv(\"C:/Users/BENJAMIN/Downloads/insurance.csv\")"
   ]
  },
  {
   "cell_type": "code",
   "execution_count": 82,
   "id": "116964f1",
   "metadata": {},
   "outputs": [
    {
     "name": "stdout",
     "output_type": "stream",
     "text": [
      "<class 'pandas.core.frame.DataFrame'>\n",
      "RangeIndex: 1338 entries, 0 to 1337\n",
      "Data columns (total 7 columns):\n",
      " #   Column    Non-Null Count  Dtype  \n",
      "---  ------    --------------  -----  \n",
      " 0   age       1338 non-null   int64  \n",
      " 1   sex       1338 non-null   object \n",
      " 2   bmi       1338 non-null   float64\n",
      " 3   children  1338 non-null   int64  \n",
      " 4   smoker    1338 non-null   object \n",
      " 5   region    1338 non-null   object \n",
      " 6   charges   1338 non-null   float64\n",
      "dtypes: float64(2), int64(2), object(3)\n",
      "memory usage: 73.3+ KB\n"
     ]
    }
   ],
   "source": [
    "df.info()"
   ]
  },
  {
   "cell_type": "code",
   "execution_count": 83,
   "id": "385a58cd",
   "metadata": {},
   "outputs": [
    {
     "data": {
      "text/html": [
       "<div>\n",
       "<style scoped>\n",
       "    .dataframe tbody tr th:only-of-type {\n",
       "        vertical-align: middle;\n",
       "    }\n",
       "\n",
       "    .dataframe tbody tr th {\n",
       "        vertical-align: top;\n",
       "    }\n",
       "\n",
       "    .dataframe thead th {\n",
       "        text-align: right;\n",
       "    }\n",
       "</style>\n",
       "<table border=\"1\" class=\"dataframe\">\n",
       "  <thead>\n",
       "    <tr style=\"text-align: right;\">\n",
       "      <th></th>\n",
       "      <th>age</th>\n",
       "      <th>sex</th>\n",
       "      <th>bmi</th>\n",
       "      <th>children</th>\n",
       "      <th>smoker</th>\n",
       "      <th>region</th>\n",
       "      <th>charges</th>\n",
       "    </tr>\n",
       "  </thead>\n",
       "  <tbody>\n",
       "    <tr>\n",
       "      <th>0</th>\n",
       "      <td>19</td>\n",
       "      <td>female</td>\n",
       "      <td>27.900</td>\n",
       "      <td>0</td>\n",
       "      <td>yes</td>\n",
       "      <td>southwest</td>\n",
       "      <td>16884.92400</td>\n",
       "    </tr>\n",
       "    <tr>\n",
       "      <th>1</th>\n",
       "      <td>18</td>\n",
       "      <td>male</td>\n",
       "      <td>33.770</td>\n",
       "      <td>1</td>\n",
       "      <td>no</td>\n",
       "      <td>southeast</td>\n",
       "      <td>1725.55230</td>\n",
       "    </tr>\n",
       "    <tr>\n",
       "      <th>2</th>\n",
       "      <td>28</td>\n",
       "      <td>male</td>\n",
       "      <td>33.000</td>\n",
       "      <td>3</td>\n",
       "      <td>no</td>\n",
       "      <td>southeast</td>\n",
       "      <td>4449.46200</td>\n",
       "    </tr>\n",
       "    <tr>\n",
       "      <th>3</th>\n",
       "      <td>33</td>\n",
       "      <td>male</td>\n",
       "      <td>22.705</td>\n",
       "      <td>0</td>\n",
       "      <td>no</td>\n",
       "      <td>northwest</td>\n",
       "      <td>21984.47061</td>\n",
       "    </tr>\n",
       "    <tr>\n",
       "      <th>4</th>\n",
       "      <td>32</td>\n",
       "      <td>male</td>\n",
       "      <td>28.880</td>\n",
       "      <td>0</td>\n",
       "      <td>no</td>\n",
       "      <td>northwest</td>\n",
       "      <td>3866.85520</td>\n",
       "    </tr>\n",
       "  </tbody>\n",
       "</table>\n",
       "</div>"
      ],
      "text/plain": [
       "   age     sex     bmi  children smoker     region      charges\n",
       "0   19  female  27.900         0    yes  southwest  16884.92400\n",
       "1   18    male  33.770         1     no  southeast   1725.55230\n",
       "2   28    male  33.000         3     no  southeast   4449.46200\n",
       "3   33    male  22.705         0     no  northwest  21984.47061\n",
       "4   32    male  28.880         0     no  northwest   3866.85520"
      ]
     },
     "execution_count": 83,
     "metadata": {},
     "output_type": "execute_result"
    }
   ],
   "source": [
    "df.head()"
   ]
  },
  {
   "cell_type": "code",
   "execution_count": 84,
   "id": "ace7b52f",
   "metadata": {},
   "outputs": [
    {
     "name": "stdout",
     "output_type": "stream",
     "text": [
      "['age', 'sex', 'bmi', 'children', 'smoker', 'region', 'charges']\n"
     ]
    }
   ],
   "source": [
    "columns=df.columns.values.tolist()\n",
    "print(columns)"
   ]
  },
  {
   "cell_type": "code",
   "execution_count": 85,
   "id": "cc08294d",
   "metadata": {},
   "outputs": [
    {
     "name": "stdout",
     "output_type": "stream",
     "text": [
      "      age     sex     bmi  children smoker     region      charges\n",
      "0      19  female  27.900         0    yes  southwest  16884.92400\n",
      "1      18    male  33.770         1     no  southeast   1725.55230\n",
      "2      28    male  33.000         3     no  southeast   4449.46200\n",
      "3      33    male  22.705         0     no  northwest  21984.47061\n",
      "4      32    male  28.880         0     no  northwest   3866.85520\n",
      "...   ...     ...     ...       ...    ...        ...          ...\n",
      "1333   50    male  30.970         3     no  northwest  10600.54830\n",
      "1334   18  female  31.920         0     no  northeast   2205.98080\n",
      "1335   18  female  36.850         0     no  southeast   1629.83350\n",
      "1336   21  female  25.800         0     no  southwest   2007.94500\n",
      "1337   61  female  29.070         0    yes  northwest  29141.36030\n",
      "\n",
      "[1338 rows x 7 columns]\n"
     ]
    },
    {
     "name": "stderr",
     "output_type": "stream",
     "text": [
      "C:\\Users\\BENJAMIN\\AppData\\Local\\Temp\\ipykernel_8932\\883001002.py:5: FutureWarning: The default value of numeric_only in DataFrame.mean is deprecated. In a future version, it will default to False. In addition, specifying 'numeric_only=None' is deprecated. Select only valid columns or specify the value of numeric_only to silence this warning.\n",
      "  df = df.fillna(df.mean())\n"
     ]
    }
   ],
   "source": [
    "# Check for missing data\n",
    "df.isnull().sum()\n",
    "\n",
    "# Impute missing data with mean\n",
    "df = df.fillna(df.mean())\n",
    "print (df)"
   ]
  },
  {
   "cell_type": "code",
   "execution_count": 86,
   "id": "af03ed86",
   "metadata": {},
   "outputs": [
    {
     "name": "stdout",
     "output_type": "stream",
     "text": [
      "      age  sex     bmi  children  smoker  region      charges\n",
      "0      19    0  27.900         0       1       3  16884.92400\n",
      "1      18    1  33.770         1       0       2   1725.55230\n",
      "2      28    1  33.000         3       0       2   4449.46200\n",
      "3      33    1  22.705         0       0       1  21984.47061\n",
      "4      32    1  28.880         0       0       1   3866.85520\n",
      "...   ...  ...     ...       ...     ...     ...          ...\n",
      "1333   50    1  30.970         3       0       1  10600.54830\n",
      "1334   18    0  31.920         0       0       0   2205.98080\n",
      "1335   18    0  36.850         0       0       2   1629.83350\n",
      "1336   21    0  25.800         0       0       3   2007.94500\n",
      "1337   61    0  29.070         0       1       1  29141.36030\n",
      "\n",
      "[1338 rows x 7 columns]\n"
     ]
    }
   ],
   "source": [
    "from sklearn.preprocessing import LabelEncoder\n",
    "cat_cols = [\"sex\", \"smoker\", \"region\"]\n",
    "# Create LabelEncoder object\n",
    "le = LabelEncoder()\n",
    "# Encode the categorical features\n",
    "for col in cat_cols:\n",
    "    df[col] = le.fit_transform(df[col])\n",
    "# Print the encoded dataset\n",
    "print(df)"
   ]
  },
  {
   "cell_type": "code",
   "execution_count": 87,
   "id": "f5fe57f7",
   "metadata": {},
   "outputs": [],
   "source": [
    "# Separate features and target\n",
    "X = df.drop(['charges'], axis=1)\n",
    "y = df['charges']"
   ]
  },
  {
   "cell_type": "code",
   "execution_count": 88,
   "id": "ed7a8d49",
   "metadata": {},
   "outputs": [
    {
     "name": "stdout",
     "output_type": "stream",
     "text": [
      "[[0.02173913 0.         0.3212268  0.         1.         1.        ]\n",
      " [0.         1.         0.47914985 0.2        0.         0.66666667]\n",
      " [0.2173913  1.         0.45843422 0.6        0.         0.66666667]\n",
      " ...\n",
      " [0.         0.         0.56201238 0.         0.         0.66666667]\n",
      " [0.06521739 0.         0.26472962 0.         0.         1.        ]\n",
      " [0.93478261 0.         0.35270379 0.         1.         0.33333333]]\n"
     ]
    }
   ],
   "source": [
    "# Normalize the data using MinMaxScaler\n",
    "scaler = MinMaxScaler()\n",
    "X_norm = scaler.fit_transform(X)\n",
    "\n",
    "# Print the normalized data\n",
    "print(X_norm)"
   ]
  },
  {
   "cell_type": "code",
   "execution_count": 89,
   "id": "85c36d02",
   "metadata": {},
   "outputs": [],
   "source": [
    "# Split the dataset into training and testing sets\n",
    "X_train, X_test, y_train, y_test = train_test_split(X, y, test_size=0.2, random_state=42)"
   ]
  },
  {
   "cell_type": "code",
   "execution_count": 90,
   "id": "a8a566e3",
   "metadata": {},
   "outputs": [
    {
     "name": "stdout",
     "output_type": "stream",
     "text": [
      "[11129.2098068   5279.3315315  28261.1135955  10712.5176533\n",
      " 34526.7010364   9133.2200995   2099.488392   14442.4762686\n",
      "  6038.4547952  10666.8380547  20235.6347478   7384.2326753\n",
      "  4894.364618   46496.3565675  48415.4409348  45504.3021979\n",
      "  9925.6052816  43438.6655569   9047.2776489  24237.7887065\n",
      "  6187.8446445  10763.3418747   2281.7628236   2711.6813281\n",
      " 12010.4130091  12186.2529167  13297.2574337   6933.1372034\n",
      " 10370.8181676   5050.91832532  7689.3889535  11742.2911635\n",
      "  2513.7029761   5445.6901702   3189.7811542  10587.6009703\n",
      "  2671.0216105   8191.9397535  23487.365382   39321.461817\n",
      "  6489.3096034   2746.9478863  11998.2359501  14479.734655\n",
      "  5821.3102169  15350.0639343  15116.0722669   5903.1316494\n",
      " 42330.6993162   7200.0425201  13889.2426335   2171.0700651\n",
      "  6805.0877189   1831.43492725 12272.9471291  11834.6874174\n",
      "  3792.47262    45082.2046762  12825.0184811  15119.4273718\n",
      " 13736.0708405   7602.9680586  21049.165789    7779.025634\n",
      " 12088.0951161   6473.9952209  18350.7544871  15344.3977688\n",
      "  8258.1826736   2491.111344    7277.5116418  10362.9345105\n",
      "  9170.9097037   9926.9486101   8244.9827304   5012.0740195\n",
      "  8049.4783255  12444.6907788   4205.811369   10190.845625\n",
      "  1725.3411385  28163.3917664   6952.4550003  37456.9334871\n",
      " 40645.441242   41968.1173318   6045.8948249  13464.8906108\n",
      " 11126.1136297  14329.4940337  19594.8381819  26666.2929634\n",
      " 30576.4102351   5593.0989606  44702.3821241   7716.4851555\n",
      " 20002.9013716   2448.7899705  17864.8981045   9180.5197869\n",
      "  4710.4246884   1758.323916    6427.3773872  13725.6625796\n",
      " 14604.7462548  10837.18155     9582.3210618  23486.6181745\n",
      "  1717.7450025  23666.8432654   1410.4153615   3782.6439159\n",
      " 12639.6260656  41130.9467412  10736.3077259   5574.653301\n",
      " 12818.719406   25656.9750163   6719.8258173   6501.8910134\n",
      "  7310.1337655  10928.7562855  16759.9581285   2515.5002929\n",
      "  6237.0724245   7768.1159236  12444.3348108  10908.9792979\n",
      " 15579.0064258   4545.1461069   4064.4747075   6047.9436558\n",
      "  5822.4689135  11602.0411846   5914.9987032  24853.7054765\n",
      "  5892.2345766  37145.2407938  47469.3287929  39630.9566587\n",
      "  5237.6311224  13311.4339946   2838.133867   17163.7524248\n",
      "  2508.30463    23914.6044597   7057.6670012   4508.4976624\n",
      " 12851.0732075   5110.0447431  51135.8065916   6400.2261967\n",
      "  2134.7801119  45582.7361164   5947.3236455   5682.2390433\n",
      " 13757.1452571   9617.4143661  36025.4249228  39845.9509498\n",
      " 14171.2372848   4890.043566   22917.2962414   4930.5980421\n",
      "  5405.8418056   8434.4338985  48423.9580812  43656.1369977\n",
      " 40313.1203821   6993.221049   11502.6686155   6574.2258713\n",
      "  8160.7206366   4539.8955296   2506.3235352  23041.7083434\n",
      " 16994.2967218  14176.6118019  16703.463739   11703.8639575\n",
      " 28346.6869559   7118.5740896   8901.3613082   7183.774757\n",
      "  8147.5373928   4506.5785231   5716.6386232   5241.0856193\n",
      "  9078.0861577  12269.0404261   4813.9502144   3998.39471282\n",
      "  3109.2402622  46208.8284044  13114.91207     9707.1423565\n",
      "  4838.2705266  14424.6511554   2237.41761725 12215.3659276\n",
      "  3622.351677   23984.8590337   8720.8100049   7932.338186\n",
      " 18440.5250311  19439.904272   12585.2092913   9339.9871163\n",
      "  9823.2319464   5301.4794725  14794.7175509  12529.4530651\n",
      " 10259.4598611  18570.0861472   7860.7092213   4113.058223\n",
      "  5163.7707736  14231.9836186  15451.3821884   5489.1284108\n",
      "  2131.2269485  10023.0035067   8149.8810693  45292.0803092\n",
      "  2158.7684216  38978.9558454   1752.2528065   2320.77371885\n",
      " 10075.649748   11014.1925487   1737.6518291   9953.2668877\n",
      "  5813.2127016  25249.7145424  11615.482559    9258.9667987\n",
      "  5047.0576366   7757.2986657  44920.0885633   2792.7967588\n",
      " 13762.4728171  42491.9724491   4071.9879649   3680.2483572\n",
      "  1639.680602    3457.3175684   4744.6324638   4845.6300947\n",
      " 13423.9217929   1633.279829    2142.5074165   8424.4433024\n",
      "  4435.0191217  11641.175803    6455.112675    3996.8744622\n",
      " 12937.8521342   5753.105168    9531.2644398   6800.8441293\n",
      "  7662.242497   15065.2778529  19120.6320241  46998.8787656\n",
      " 12403.4431582   6361.9545085  46753.924302    9877.9686506 ]\n"
     ]
    }
   ],
   "source": [
    "from sklearn.ensemble import RandomForestRegressor\n",
    "from sklearn.model_selection import train_test_split\n",
    "from sklearn.metrics import accuracy_score\n",
    "from sklearn.preprocessing import MinMaxScaler\n",
    "import joblib\n",
    "# Initialize random forest model\n",
    "rf = RandomForestRegressor(n_estimators=100, random_state=42)\n",
    "\n",
    "# Train model on training set\n",
    "rf.fit(X_train, y_train)\n",
    "\n",
    "# Make predictions on testing set\n",
    "y_pred = rf.predict(X_test)\n",
    "print(y_pred)"
   ]
  },
  {
   "cell_type": "code",
   "execution_count": 92,
   "id": "78f17a15",
   "metadata": {},
   "outputs": [
    {
     "name": "stdout",
     "output_type": "stream",
     "text": [
      "Mean Absolute Error: 2533.674643617756\n",
      "Mean Squared Error: 21073365.415079337\n",
      "Root Mean Squared Error: 4590.5735387944\n"
     ]
    }
   ],
   "source": [
    "from sklearn.metrics import mean_absolute_error, mean_squared_error\n",
    "\n",
    "# Calculate evaluation metrics\n",
    "mae = mean_absolute_error(y_test, y_pred)\n",
    "mse = mean_squared_error(y_test, y_pred)\n",
    "rmse = np.sqrt(mse)\n",
    "\n",
    "# Print evaluation metrics\n",
    "print(\"Mean Absolute Error:\", mae)\n",
    "print(\"Mean Squared Error:\", mse)\n",
    "print(\"Root Mean Squared Error:\", rmse)"
   ]
  },
  {
   "cell_type": "code",
   "execution_count": 71,
   "id": "61614423",
   "metadata": {},
   "outputs": [
    {
     "name": "stdout",
     "output_type": "stream",
     "text": [
      " * Serving Flask app '__main__'\n",
      " * Debug mode: on\n"
     ]
    },
    {
     "name": "stderr",
     "output_type": "stream",
     "text": [
      "WARNING: This is a development server. Do not use it in a production deployment. Use a production WSGI server instead.\n",
      " * Running on http://127.0.0.1:5000\n",
      "Press CTRL+C to quit\n",
      " * Restarting with stat\n"
     ]
    },
    {
     "ename": "SystemExit",
     "evalue": "1",
     "output_type": "error",
     "traceback": [
      "An exception has occurred, use %tb to see the full traceback.\n",
      "\u001b[1;31mSystemExit\u001b[0m\u001b[1;31m:\u001b[0m 1\n"
     ]
    },
    {
     "name": "stderr",
     "output_type": "stream",
     "text": [
      "C:\\Users\\BENJAMIN\\AppData\\Roaming\\Python\\Python311\\site-packages\\IPython\\core\\interactiveshell.py:3450: UserWarning: To exit: use 'exit', 'quit', or Ctrl-D.\n",
      "  warn(\"To exit: use 'exit', 'quit', or Ctrl-D.\", stacklevel=1)\n"
     ]
    }
   ],
   "source": [
    "from flask import Flask, jsonify, request\n",
    "# Create a Flask app\n",
    "app = Flask(__name__)\n",
    "\n",
    "# Define a route for the API\n",
    "@app.route('/predict', methods=['POST'])\n",
    "def predict():\n",
    "    # Get the features from the request\n",
    "    features = request.json['features']\n",
    "     # Convert the features to a DataFrame\n",
    "    X = pd.DataFrame.from_dict(features)\n",
    "     # Return the prediction as a JSON response\n",
    "    response = {'prediction': y_pred.tolist()}\n",
    "    return jsonify(response)\n",
    "# Run the Flask app\n",
    "if __name__ == '__main__':\n",
    "    app.run(debug=True)\n",
    "    ''"
   ]
  },
  {
   "cell_type": "code",
   "execution_count": null,
   "id": "d4359d10",
   "metadata": {},
   "outputs": [],
   "source": []
  }
 ],
 "metadata": {
  "kernelspec": {
   "display_name": "Python 3 (ipykernel)",
   "language": "python",
   "name": "python3"
  },
  "language_info": {
   "codemirror_mode": {
    "name": "ipython",
    "version": 3
   },
   "file_extension": ".py",
   "mimetype": "text/x-python",
   "name": "python",
   "nbconvert_exporter": "python",
   "pygments_lexer": "ipython3",
   "version": "3.11.2"
  }
 },
 "nbformat": 4,
 "nbformat_minor": 5
}
